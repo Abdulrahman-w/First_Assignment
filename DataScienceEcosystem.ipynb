{
 "cells": [
  {
   "cell_type": "markdown",
   "id": "13b4c9fc",
   "metadata": {},
   "source": [
    "<H1>Data Science Tools and Ecosystem</H1>"
   ]
  },
  {
   "cell_type": "markdown",
   "id": "c4de02d1",
   "metadata": {},
   "source": [
    "In this notebook, Data Science Tools and Ecosystem are summarized"
   ]
  },
  {
   "cell_type": "markdown",
   "id": "002567ac",
   "metadata": {},
   "source": [
    "<p>Some of the popular languages that Data Scientists use are:</p>\n"
   ]
  },
  {
   "cell_type": "markdown",
   "id": "e1801661",
   "metadata": {},
   "source": [
    "1. Python\n",
    "2. R\n",
    "3. Julia\n",
    "4. SQL\n",
    "5. Scala"
   ]
  },
  {
   "cell_type": "markdown",
   "id": "6209f185",
   "metadata": {},
   "source": [
    "Some of the commonly used libraries used by Data Scientists include:"
   ]
  },
  {
   "cell_type": "markdown",
   "id": "e37447b8",
   "metadata": {},
   "source": [
    "* Numpy\n",
    "* Pandas\n",
    "* Matplotlib\n",
    "* ggplot\n",
    "* TensorFlow"
   ]
  },
  {
   "cell_type": "markdown",
   "id": "992dc524",
   "metadata": {},
   "source": [
    "### Data Science Tools\n",
    "\n",
    "|Data Science Tools|\n",
    "|:-----------------|\n",
    "| Jupyter Notebook |\n",
    "|     RStudio      |\n",
    "|     VS Code      |"
   ]
  },
  {
   "cell_type": "markdown",
   "id": "c290f984",
   "metadata": {},
   "source": [
    "### Below are a few examples of evaluating arithmetic expressions in Python.\n"
   ]
  },
  {
   "cell_type": "markdown",
   "id": "516ffdee",
   "metadata": {},
   "source": [
    "This a simple arithmetic expression to mutiply then add integers"
   ]
  },
  {
   "cell_type": "code",
   "execution_count": 3,
   "id": "bda78aab",
   "metadata": {},
   "outputs": [
    {
     "data": {
      "text/plain": [
       "17"
      ]
     },
     "execution_count": 3,
     "metadata": {},
     "output_type": "execute_result"
    }
   ],
   "source": [
    "(3*4)+5"
   ]
  },
  {
   "cell_type": "markdown",
   "id": "e369192a",
   "metadata": {},
   "source": [
    "This will convert 200 minutes to hours by diving by 60"
   ]
  },
  {
   "cell_type": "code",
   "execution_count": 5,
   "id": "90ed80bf",
   "metadata": {
    "scrolled": true
   },
   "outputs": [
    {
     "name": "stdout",
     "output_type": "stream",
     "text": [
      "3\n"
     ]
    }
   ],
   "source": [
    "minutes = 200\n",
    "hours = minutes // 60\n",
    "print(hours)"
   ]
  },
  {
   "cell_type": "markdown",
   "id": "1279221c",
   "metadata": {},
   "source": [
    "<p>Some of the popular languages that Data Scientists use are:</p>"
   ]
  },
  {
   "cell_type": "markdown",
   "id": "32431bbe",
   "metadata": {},
   "source": [
    "* Python\n",
    "* R\n",
    "* Julia\n",
    "* SQL\n",
    "* Scala"
   ]
  },
  {
   "cell_type": "markdown",
   "id": "d43c882f",
   "metadata": {},
   "source": [
    "## Author "
   ]
  },
  {
   "cell_type": "markdown",
   "id": "2e646b95",
   "metadata": {},
   "source": [
    "Abdulrahman "
   ]
  },
  {
   "cell_type": "markdown",
   "id": "633ff739",
   "metadata": {},
   "source": []
  }
 ],
 "metadata": {
  "kernelspec": {
   "display_name": "Python 3 (ipykernel)",
   "language": "python",
   "name": "python3"
  },
  "language_info": {
   "codemirror_mode": {
    "name": "ipython",
    "version": 3
   },
   "file_extension": ".py",
   "mimetype": "text/x-python",
   "name": "python",
   "nbconvert_exporter": "python",
   "pygments_lexer": "ipython3",
   "version": "3.11.5"
  }
 },
 "nbformat": 4,
 "nbformat_minor": 5
}
